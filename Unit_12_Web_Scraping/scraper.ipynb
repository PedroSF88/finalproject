{
 "cells": [
  {
   "cell_type": "code",
   "execution_count": null,
   "metadata": {},
   "outputs": [],
   "source": [
    "# Dependencies\n",
    "from bs4 import BeautifulSoup\n",
    "import requests\n",
    "import os\n",
    "import re\n",
    "from splinter import Browser\n",
    "from splinter.exceptions import ElementDoesNotExist\n",
    "from bs4 import BeautifulSoup"
   ]
  },
  {
   "cell_type": "code",
   "execution_count": null,
   "metadata": {},
   "outputs": [],
   "source": [
    "import pandas as pd\n",
    "import numpy as np"
   ]
  },
  {
   "cell_type": "code",
   "execution_count": null,
   "metadata": {},
   "outputs": [],
   "source": [
    "#chromium path \n",
    "chromiumPath=r'C:\\Users\\floPe\\OneDrive\\Desktop\\chromedriver.exe'"
   ]
  },
  {
   "cell_type": "code",
   "execution_count": null,
   "metadata": {},
   "outputs": [],
   "source": [
    "\n",
    "executable_path = {'executable_path':chromiumPath}\n",
    "browser = Browser('chrome', **executable_path, headless=False)"
   ]
  },
  {
   "cell_type": "code",
   "execution_count": null,
   "metadata": {},
   "outputs": [],
   "source": [
    "# url being scrapted\n",
    "url = 'https://mars.nasa.gov/news/'\n",
    "browser.visit(url)\n",
    "html = browser.html\n",
    "soup = BeautifulSoup(html, 'html.parser')"
   ]
  },
  {
   "cell_type": "code",
   "execution_count": null,
   "metadata": {},
   "outputs": [],
   "source": [
    "# title of news article\n",
    "info = soup.find('div', \"content_title\")\n",
    "news_title=info.text.strip()\n",
    "news_title"
   ]
  },
  {
   "cell_type": "code",
   "execution_count": null,
   "metadata": {},
   "outputs": [],
   "source": [
    "# full ling for news article\n",
    "part_link=info.find('a')['href']\n",
    "full_link=url+part_link\n",
    "full_link"
   ]
  },
  {
   "cell_type": "code",
   "execution_count": null,
   "metadata": {},
   "outputs": [],
   "source": [
    "# description of news article\n",
    "news_p=soup.find('div', \"rollover_description_inner\").text.strip()\n",
    "news_p"
   ]
  },
  {
   "cell_type": "markdown",
   "metadata": {},
   "source": [
    "Scraper 2 for Image"
   ]
  },
  {
   "cell_type": "code",
   "execution_count": null,
   "metadata": {},
   "outputs": [],
   "source": [
    "#jpl.nasa.gov mars featured image\n",
    "executable_path = {'executable_path':chromiumPath}\n",
    "browser = Browser('chrome', **executable_path, headless=False)\n",
    "url2 = 'https://www.jpl.nasa.gov/spaceimages/?search=&category=Mars'\n",
    "browser.visit(url2)\n",
    "html = browser.html\n",
    "soup2 = BeautifulSoup(html, 'html.parser')\n"
   ]
  },
  {
   "cell_type": "code",
   "execution_count": null,
   "metadata": {},
   "outputs": [],
   "source": [
    "# find featured image \n",
    "image_info = soup2.find('a',\"button fancybox\")\n",
    "# find relative location of image\n",
    "image_url=image_info['data-fancybox-href']\n",
    "# add relative url if image to site url\n",
    "featured_image_url='https://www.jpl.nasa.gov'+image_url\n",
    "featured_image_url\n",
    "\n"
   ]
  },
  {
   "cell_type": "markdown",
   "metadata": {},
   "source": [
    "Scraper 3 for mars weather Tweet"
   ]
  },
  {
   "cell_type": "code",
   "execution_count": null,
   "metadata": {},
   "outputs": [],
   "source": [
    "#https://twitter.com/marswxreport?lang=en for Tweet\n",
    "executable_path = {'executable_path':chromiumPath}\n",
    "browser = Browser('chrome', **executable_path, headless=False)\n",
    "url3 = 'https://twitter.com/marswxreport?lang=en'\n",
    "browser.visit(url3)\n",
    "html = browser.html\n",
    "soup3 = BeautifulSoup(html, 'html.parser')\n"
   ]
  },
  {
   "cell_type": "code",
   "execution_count": null,
   "metadata": {},
   "outputs": [],
   "source": [
    "# find tweet\n",
    "tweet_info = soup3.find(\"div\",\"tweet js-stream-tweet js-actionable-tweet js-profile-popup-actionable dismissible-content original-tweet js-original-tweet has-cards has-content\")\n",
    "\n",
    "# get weather text\n",
    "mars_weather=tweet_info.find(\"div\", class_=\"js-tweet-text-container\").text.strip()\n",
    "mars_weather"
   ]
  },
  {
   "cell_type": "markdown",
   "metadata": {},
   "source": [
    "Scraper 4 for Mars Data Table\n"
   ]
  },
  {
   "cell_type": "code",
   "execution_count": null,
   "metadata": {},
   "outputs": [],
   "source": [
    "#https://space-facts.com/mars/ for table info\n",
    "executable_path = {'executable_path':chromiumPath}\n",
    "browser = Browser('chrome', **executable_path, headless=False)\n",
    "url4 = 'https://space-facts.com/mars/'\n",
    "browser.visit(url4)\n",
    "html = browser.html\n",
    "soup4 = BeautifulSoup(html, 'html.parser')\n"
   ]
  },
  {
   "cell_type": "code",
   "execution_count": null,
   "metadata": {},
   "outputs": [],
   "source": [
    "table=soup4.find(\"table\", \"tablepress tablepress-id-p-mars\")"
   ]
  },
  {
   "cell_type": "code",
   "execution_count": null,
   "metadata": {},
   "outputs": [],
   "source": []
  },
  {
   "cell_type": "code",
   "execution_count": null,
   "metadata": {},
   "outputs": [],
   "source": [
    "mars_table = pd.read_html(url4)\n",
    "table_df= pd.DataFrame(mars_table[0])\n",
    "table_df.columns = [\"Profile\", \"Data\"]\n",
    "mars_df2 = table_df.set_index(\"Profile\")\n",
    "table_info = mars_df2.to_html(index = False)"
   ]
  },
  {
   "cell_type": "code",
   "execution_count": null,
   "metadata": {},
   "outputs": [],
   "source": []
  },
  {
   "cell_type": "markdown",
   "metadata": {},
   "source": [
    "Scraper 5 for High res. photos"
   ]
  },
  {
   "cell_type": "code",
   "execution_count": null,
   "metadata": {},
   "outputs": [],
   "source": [
    "#https://astrogeology.usgs.gov/search/results?q=hemisphere+enhanced&k1=target&v1=Mars for table info\n",
    "executable_path = {'executable_path':chromiumPath}\n",
    "browser = Browser('chrome', **executable_path, headless=False)\n",
    "url5 = 'https://astrogeology.usgs.gov/search/results?q=hemisphere+enhanced&k1=target&v1=Mars'\n",
    "browser.visit(url5)\n",
    "\n"
   ]
  },
  {
   "cell_type": "code",
   "execution_count": null,
   "metadata": {},
   "outputs": [],
   "source": [
    "# HTML object\n",
    "html = browser.html\n",
    "# Parse HTML with Beautiful Soup\n",
    "soup5 = BeautifulSoup(html, 'html.parser')\n",
    "# Retrieve all elements that contain book information\n",
    "images=soup5.find_all('div', \"item\")\n",
    "\n",
    "#list\n",
    "titles=[]\n",
    "\n",
    "hemisphere_image_urls=[]\n",
    "\n",
    "\n",
    "usgs_link='https://astrogeology.usgs.gov'\n",
    "for image in images:\n",
    " # Use Beautiful Soup's find() method to navigate and retrieve attributes\n",
    "    link = image.find('a')\n",
    "    title=image.find('h3').text\n",
    "    browser.click_link_by_partial_text(title)\n",
    "    \n",
    "    html = browser.html\n",
    "# Parse HTML with Beautiful Soup\n",
    "    soupx = BeautifulSoup(html, 'html.parser')\n",
    "# find link for image .jpg\n",
    "    imagex=soupx.find('div', 'downloads')\n",
    "    image_x=imagex.find('a')\n",
    "\n",
    "# title and liks to list\n",
    "    hemisphere_image_urls.append({'title': title, 'img_url': image_x['href']})\n",
    "\n",
    "    browser.visit(url5)\n",
    "\n",
    "\n",
    "    \n",
    "\n",
    "\n",
    " \n",
    "      \n",
    "\n",
    "   "
   ]
  },
  {
   "cell_type": "code",
   "execution_count": null,
   "metadata": {},
   "outputs": [],
   "source": [
    "hemisphere_image_urls"
   ]
  },
  {
   "cell_type": "code",
   "execution_count": null,
   "metadata": {},
   "outputs": [],
   "source": [
    "  # Store data in a dictionary\n",
    "    mars_data = {}\n",
    "    \n",
    "    mars_data['news_title']= news_title\n",
    "    mars_data['news_p']= news_p\n",
    "    mars_data['featured_image_url']=featured_image_url\n",
    "    mars_data['mars_weather']= mars_weather\n",
    "    mars_data['table_info']=table_info\n",
    "    mars_data['hemisphere_image_urls']=hemisphere_image_urls\n",
    "        \n",
    "    \n",
    "\n",
    "\n",
    "     # Close the browser after scraping\n",
    "    browser.quit()\n",
    "     # Return results"
   ]
  }
 ],
 "metadata": {
  "kernelspec": {
   "display_name": "Python 3",
   "language": "python",
   "name": "python3"
  },
  "language_info": {
   "codemirror_mode": {
    "name": "ipython",
    "version": 3
   },
   "file_extension": ".py",
   "mimetype": "text/x-python",
   "name": "python",
   "nbconvert_exporter": "python",
   "pygments_lexer": "ipython3",
   "version": "3.7.3"
  }
 },
 "nbformat": 4,
 "nbformat_minor": 2
}
